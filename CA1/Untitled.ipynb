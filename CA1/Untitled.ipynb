{
 "cells": [
  {
   "cell_type": "code",
   "execution_count": null,
   "id": "b8d53048-efd7-4733-bf05-07c92ac8cc37",
   "metadata": {},
   "outputs": [],
   "source": [
    "import numpy as np\n",
    "import matplotlib.pyplot as plt\n",
    "from scipy.stats import norm\n",
    "import math"
   ]
  },
  {
   "cell_type": "markdown",
   "id": "c75a913c-f0f5-40f8-970a-6931da13e322",
   "metadata": {},
   "source": [
    "# Central Limit Theorem(CLT)"
   ]
  },
  {
   "cell_type": "markdown",
   "id": "3015b8f8-92d6-4955-a2f5-6e7a6034047c",
   "metadata": {},
   "source": [
    "The objective of this section is to provide you with a hands-on opportunity to observe and understand the Central Limit Theorem in action. The CLT is a fundamental result that supports many statistical techniques and methods. It provides a theoretical basis for making inferences about population parameters based on sample statistics.<br>\n",
    "First of all, select three different probability distributions. These distributions will serve as the\n",
    "population distributions from which you will take out samples.<br>\n",
    "Now for each of the distributions, perform the following steps:\n",
    "1. Generate a large number of random samples with a specific sample size from the chosen distribution.\n",
    "2. Calculate the mean of each sample.\n",
    "3. Plot the histogram of the sample means and overlay it with the expected normal distribution based on the Central Limit Theorem.\n",
    "4. Repeat steps a to c for increasing sample sizes and observe how the distribution of sample means changes as we increase the sample size.\n",
    "<br>\n",
    "\n",
    "Document your observations and insights from each experiment. Compare the distribution of sample means for each sample size and discuss how they align with the principles of the Central Limit Theorem."
   ]
  },
  {
   "cell_type": "code",
   "execution_count": null,
   "id": "4d5377b3-5e48-467f-8a27-1d5fc4964927",
   "metadata": {},
   "outputs": [],
   "source": [
    "colors = ['darkgreen', 'green', 'forestgreen', 'mediumseagreen','teal',\n",
    "          'darkcyan', 'deepskyblue', 'dodgerblue', 'blue',\n",
    "          'navy', 'indigo', 'darkslateblue', 'darkorchid']"
   ]
  },
  {
   "cell_type": "code",
   "execution_count": null,
   "id": "a8152dfc-155e-4622-bf7f-a51205bed36f",
   "metadata": {},
   "outputs": [],
   "source": [
    "sample_sizes = [1, 5, 10, 30, 50, 100, 500, 1000]\n"
   ]
  },
  {
   "cell_type": "code",
   "execution_count": null,
   "id": "47ba68f1-b752-4434-93d1-9d6d91697436",
   "metadata": {},
   "outputs": [],
   "source": [
    "def demonstrate_clt(population_distribution, dist_name, sample_sizes):\n",
    "    # Determine the number of rows and columns based on the number of sample sizes\n",
    "    n = len(sample_sizes)\n",
    "    rows = math.ceil(n / 2)\n",
    "    cols = 2 if n > 1 else 1\n",
    "\n",
    "    plt.figure(figsize=(18, 6 * rows))\n",
    "    for i, sample_size in enumerate(sample_sizes, 1):\n",
    "        #1.Generate a large number of random samples.\n",
    "        #2. Calculate the mean of each sample.\n",
    "        sample_means = [np.mean(population_distribution(size=sample_size)) for _ in range(1000)]\n",
    "        \n",
    "        #Calculate mean and variance of the sample means\n",
    "        mean_of_sample_means = np.mean(sample_means)\n",
    "        variance_of_sample_means = np.var(sample_means)\n",
    "        \n",
    "        #3.1 Plot the histogram of the sample means \n",
    "        plt.subplot(rows, cols, i)\n",
    "        plt.hist(sample_means, bins=30, density=True, alpha=0.6, color=colors[-i], label=f'Sample Means (n={sample_size})')\n",
    "        \n",
    "        #3.2 Overlay it with the expected normal distribution.\n",
    "        mu, sigma = mean_of_sample_means, np.std(sample_means)\n",
    "        xmin, xmax = plt.xlim()\n",
    "        x = np.linspace(xmin, xmax, 100)\n",
    "        p = norm.pdf(x, mu, sigma)\n",
    "        plt.plot(x, p, 'k', linewidth=2, label='Normal Distribution')\n",
    "        \n",
    "        # Include mean and variance in the title or as a text annotation\n",
    "        plt.title(f'{dist_name} (n={sample_size})\\nMean: {mean_of_sample_means:.5f}, Variance: {variance_of_sample_means:.5f}')\n",
    "        plt.legend()\n",
    "\n",
    "    plt.tight_layout()\n",
    "    plt.show()"
   ]
  },
  {
   "cell_type": "markdown",
   "id": "b112781f-92db-4b0c-bb89-9c1413a32ccb",
   "metadata": {},
   "source": [
    "## 1. Uniform Distribution:"
   ]
  },
  {
   "cell_type": "code",
   "execution_count": null,
   "id": "963da78a-b225-4b1f-9872-8595f65f36b2",
   "metadata": {},
   "outputs": [],
   "source": [
    "demonstrate_clt(lambda size: np.random.uniform(low=0, high=1, size=size), 'Uniform Distribution', sample_sizes)\n"
   ]
  },
  {
   "cell_type": "markdown",
   "id": "c313ee03-47c8-401d-afda-5cca4b364b45",
   "metadata": {},
   "source": [
    "## 2. Exponential Distribution\n"
   ]
  },
  {
   "cell_type": "code",
   "execution_count": null,
   "id": "2c5a343a-ba34-4003-8171-a3c91b028cf0",
   "metadata": {},
   "outputs": [],
   "source": [
    "demonstrate_clt(lambda size: np.random.exponential(scale=1, size=size), 'Exponential Distribution', sample_sizes)\n"
   ]
  },
  {
   "cell_type": "markdown",
   "id": "b0d4320c-ccef-482c-afe7-7a45ada7658c",
   "metadata": {},
   "source": [
    "## 3. Binomial Distribution"
   ]
  },
  {
   "cell_type": "code",
   "execution_count": null,
   "id": "d9956a8a-6aff-4b45-810e-6d1dff82f616",
   "metadata": {},
   "outputs": [],
   "source": [
    "demonstrate_clt(lambda size: np.random.binomial(n=10, p=0.5, size=size), 'Binomial Distribution', sample_sizes)\n"
   ]
  },
  {
   "cell_type": "code",
   "execution_count": null,
   "id": "ed731b08-16a9-4e4b-a88e-cdee5111dd04",
   "metadata": {},
   "outputs": [],
   "source": []
  },
  {
   "cell_type": "code",
   "execution_count": null,
   "id": "fb2d89aa-5baa-4175-b8ae-c1e599b0eec4",
   "metadata": {},
   "outputs": [],
   "source": []
  }
 ],
 "metadata": {
  "kernelspec": {
   "display_name": "Python 3 (ipykernel)",
   "language": "python",
   "name": "python3"
  },
  "language_info": {
   "codemirror_mode": {
    "name": "ipython",
    "version": 3
   },
   "file_extension": ".py",
   "mimetype": "text/x-python",
   "name": "python",
   "nbconvert_exporter": "python",
   "pygments_lexer": "ipython3",
   "version": "3.12.2"
  }
 },
 "nbformat": 4,
 "nbformat_minor": 5
}
