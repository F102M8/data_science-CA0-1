{
 "cells": [
  {
   "cell_type": "markdown",
   "id": "c75a913c-f0f5-40f8-970a-6931da13e322",
   "metadata": {},
   "source": [
    "# Central Limit Theorem(CLT)"
   ]
  },
  {
   "cell_type": "markdown",
   "id": "3015b8f8-92d6-4955-a2f5-6e7a6034047c",
   "metadata": {},
   "source": [
    "The objective of this section is to provide you with a hands-on opportunity to observe and understand the Central Limit Theorem in action. The CLT is a fundamental result that supports many statistical techniques and methods. It provides a theoretical basis for making inferences about population parameters based on sample statistics.<br>\n",
    "First of all, select three different probability distributions. These distributions will serve as the\n",
    "population distributions from which you will take out samples.<br>\n",
    "Now for each of the distributions, perform the following steps:\n",
    "1. Generate a large number of random samples with a specific sample size from the chosen distribution.\n",
    "2. Calculate the mean of each sample.\n",
    "3. Plot the histogram of the sample means and overlay it with the expected normal distribution based on the Central Limit Theorem.\n",
    "4. Repeat steps a to c for increasing sample sizes and observe how the distribution of sample means changes as we increase the sample size.\n",
    "<br>\n",
    "\n",
    "Document your observations and insights from each experiment. Compare the distribution of sample means for each sample size and discuss how they align with the principles of the Central Limit Theorem."
   ]
  },
  {
   "cell_type": "markdown",
   "id": "ee867643-15b2-4cca-9589-394265f88535",
   "metadata": {},
   "source": [
    "## A) Normal:"
   ]
  },
  {
   "cell_type": "markdown",
   "id": "9ce0f369-25d6-4948-b553-d313e7496ed4",
   "metadata": {},
   "source": [
    "### I)"
   ]
  },
  {
   "cell_type": "markdown",
   "id": "799e1bf0-aed0-4375-bdd9-ddd78eb32161",
   "metadata": {},
   "source": [
    "#### 1. Generate a large number of random samples"
   ]
  },
  {
   "cell_type": "code",
   "execution_count": null,
   "id": "7f0a12c1-402e-4103-bbf3-c60f5c89cf55",
   "metadata": {},
   "outputs": [],
   "source": []
  },
  {
   "cell_type": "markdown",
   "id": "02d4f283-1767-41dc-81c1-127fecf08de0",
   "metadata": {},
   "source": [
    "#### 2. Calculate mean"
   ]
  },
  {
   "cell_type": "code",
   "execution_count": null,
   "id": "32f670df-9457-4367-836a-0e08f803ec92",
   "metadata": {},
   "outputs": [],
   "source": []
  },
  {
   "cell_type": "markdown",
   "id": "28f2fd8e-8b73-4b07-9513-9fa70dcec95b",
   "metadata": {},
   "source": [
    "#### 3. Plot the histogram of the sample means"
   ]
  },
  {
   "cell_type": "code",
   "execution_count": null,
   "id": "b1b82b3f-560e-42c6-a2ce-8f81111c96a4",
   "metadata": {},
   "outputs": [],
   "source": []
  },
  {
   "cell_type": "markdown",
   "id": "0c37b11a-1d94-4a49-9d35-77df6ffc643b",
   "metadata": {},
   "source": [
    "### II)"
   ]
  },
  {
   "cell_type": "markdown",
   "id": "8ec7ecf8-8496-4437-b9e1-f6d3a6c16831",
   "metadata": {},
   "source": [
    "## B) Binomial:"
   ]
  },
  {
   "cell_type": "markdown",
   "id": "d2563fef-0917-4716-9831-ed404d9218d3",
   "metadata": {},
   "source": [
    "## c) Exponential "
   ]
  },
  {
   "cell_type": "code",
   "execution_count": null,
   "id": "e26c7029-a39f-43e9-acfb-8ad7da609573",
   "metadata": {},
   "outputs": [],
   "source": []
  }
 ],
 "metadata": {
  "kernelspec": {
   "display_name": "Python 3 (ipykernel)",
   "language": "python",
   "name": "python3"
  },
  "language_info": {
   "codemirror_mode": {
    "name": "ipython",
    "version": 3
   },
   "file_extension": ".py",
   "mimetype": "text/x-python",
   "name": "python",
   "nbconvert_exporter": "python",
   "pygments_lexer": "ipython3",
   "version": "3.12.2"
  }
 },
 "nbformat": 4,
 "nbformat_minor": 5
}
