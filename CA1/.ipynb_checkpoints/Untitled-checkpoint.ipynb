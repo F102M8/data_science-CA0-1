{
 "cells": [
  {
   "cell_type": "code",
   "execution_count": null,
   "id": "b8d53048-efd7-4733-bf05-07c92ac8cc37",
   "metadata": {},
   "outputs": [],
   "source": [
    "import numpy as np\n",
    "import matplotlib.pyplot as plt\n",
    "from scipy.stats import norm\n",
    "import math\n",
    "import random"
   ]
  },
  {
   "cell_type": "markdown",
   "id": "14714299",
   "metadata": {},
   "source": [
    "# Monte Carlo Simulation\n"
   ]
  },
  {
   "cell_type": "markdown",
   "id": "8d178019",
   "metadata": {},
   "source": [
    "## Pi Calculation"
   ]
  },
  {
   "cell_type": "markdown",
   "id": "3fd6f484",
   "metadata": {},
   "source": [
    "<p>To estimate the value of Pi using Monte Carlo simulation, we follow the idea of generating random points within a square that bounds a circle. The circle has a radius <i>r</i>, and the square has sides of length <i>2r</i>, ensuring that the circle is inscribed within the square. The area of the circle is <i>πr<sup>2</sup></i>, and the area of the square is <i>(2r)<sup>2</sup> = 4r<sup>2</sup></i>. The ratio of the area of the circle to the area of the square is therefore <i>πr<sup>2</sup> / 4r<sup>2</sup> = π / 4</i>.</p>\n",
    "\n",
    "<p>By randomly generating points within the square, we can estimate Pi by comparing the number of points that fall inside the circle to the total number of points. The ratio of points inside the circle to the total points, multiplied by 4, gives us an approximation of Pi.</p>\n"
   ]
  },
  {
   "cell_type": "code",
   "execution_count": null,
   "id": "6b4a9471",
   "metadata": {},
   "outputs": [],
   "source": [
    "\n",
    "def estimate_pi(num_points):\n",
    "    points_inside_circle = 0\n",
    "    for _ in range(num_points):\n",
    "        # Generate random points within the square [-1, 1] x [-1, 1]\n",
    "        x, y = random.uniform(-1, 1), random.uniform(-1, 1)\n",
    "        distance = x**2 + y**2  # Calculate the distance from the origin\n",
    "        if distance <= 1:  # Check if the point is inside the circle\n",
    "            points_inside_circle += 1\n",
    "    # Estimate Pi using the ratio of points inside the circle to total points\n",
    "    pi_estimate = 4 * points_inside_circle / num_points\n",
    "    return pi_estimate\n",
    "\n",
    "# Estimate Pi using 1000 points\n",
    "pi_estimate_10000 = estimate_pi(1000)\n",
    "print(f\"Estimated Pi using 1000 points: {pi_estimate_10000}\")\n",
    "\n",
    "# Estimate Pi using 10,000 points\n",
    "pi_estimate_10000 = estimate_pi(10000)\n",
    "print(f\"Estimated Pi using 10,000 points: {pi_estimate_10000}\")\n",
    "\n",
    "# Estimate Pi using 100,000 points\n",
    "pi_estimate_100000 = estimate_pi(100000)\n",
    "print(f\"Estimated Pi using 100,000 points: {pi_estimate_100000}\")"
   ]
  },
  {
   "cell_type": "markdown",
   "id": "414e1063",
   "metadata": {},
   "source": [
    "## Mensch Game\n"
   ]
  },
  {
   "cell_type": "code",
   "execution_count": null,
   "id": "eac7382f",
   "metadata": {},
   "outputs": [],
   "source": [
    "import numpy as np\n",
    "\n",
    "def simulate_mensch(num_simulations):\n",
    "    wins = np.zeros(4)  # Track wins for each player\n",
    "\n",
    "    for _ in range(num_simulations):\n",
    "        positions = np.full(4, -1)# -1 indicates the piece is not yet on the board\n",
    "        initpos = [0, 10, 20, 30]\n",
    "        home = [40, 50, 60, 70]\n",
    "        while True:\n",
    "      #  for i in range(1000):\n",
    "            for player in range(4):\n",
    "                roll = np.random.randint(1, 7)  # Simulate dice roll\n",
    "            #    print(player, \" \", roll, \" \", positions)\n",
    "                # Check if player can start or re-enter the game\n",
    "                if positions[player] == -1:\n",
    "                    if roll == 6:\n",
    "                        positions[player] = initpos[player]  # Enter the game\n",
    "                else:\n",
    "                    potential_move = (positions[player] + roll)\n",
    "                    # Check if move is within winning bounds and if not, skip the move\n",
    "                    if potential_move <= home[player]:\n",
    "                        # Check for collision\n",
    "                        for opponent in range(4):\n",
    "                            if opponent != player and (positions[opponent] % 40) == (potential_move % 40):\n",
    "                                positions[opponent] = -1  # Send opponent's piece off the board\n",
    "                        positions[player] = potential_move  # Make the valid move\n",
    "\n",
    "                    # Adjust for exact winning condition\n",
    "                    else:\n",
    "                        continue\n",
    "\n",
    "                # Check for a winner\n",
    "                if positions[player] == home[player]:\n",
    "                    wins[player] += 1\n",
    "                    break  # Break from the player loop to start a new game\n",
    "            if np.any(positions == home): # Check if there's a winner to end the game\n",
    "                break\n",
    "\n",
    "    probabilities = wins / num_simulations  # Calculate winning probabilities\n",
    "    return probabilities\n",
    "\n",
    "# Simulate the game different times\n",
    "probabilities = simulate_mensch(100)\n",
    "print(probabilities)\n",
    "probabilities = simulate_mensch(1000)\n",
    "print(probabilities)\n",
    "probabilities = simulate_mensch(10000)\n",
    "print(probabilities)\n"
   ]
  },
  {
   "cell_type": "markdown",
   "id": "c75a913c-f0f5-40f8-970a-6931da13e322",
   "metadata": {},
   "source": [
    "# Central Limit Theorem(CLT)"
   ]
  },
  {
   "cell_type": "markdown",
   "id": "3015b8f8-92d6-4955-a2f5-6e7a6034047c",
   "metadata": {},
   "source": [
    "The objective of this section is to provide you with a hands-on opportunity to observe and understand the Central Limit Theorem in action. The CLT is a fundamental result that supports many statistical techniques and methods. It provides a theoretical basis for making inferences about population parameters based on sample statistics.<br>\n",
    "First of all, select three different probability distributions. These distributions will serve as the\n",
    "population distributions from which you will take out samples.<br>\n",
    "Now for each of the distributions, perform the following steps:\n",
    "1. Generate a large number of random samples with a specific sample size from the chosen distribution.\n",
    "2. Calculate the mean of each sample.\n",
    "3. Plot the histogram of the sample means and overlay it with the expected normal distribution based on the Central Limit Theorem.\n",
    "4. Repeat steps a to c for increasing sample sizes and observe how the distribution of sample means changes as we increase the sample size.\n",
    "<br>\n",
    "\n",
    "Document your observations and insights from each experiment. Compare the distribution of sample means for each sample size and discuss how they align with the principles of the Central Limit Theorem."
   ]
  },
  {
   "cell_type": "code",
   "execution_count": null,
   "id": "4d5377b3-5e48-467f-8a27-1d5fc4964927",
   "metadata": {},
   "outputs": [],
   "source": [
    "colors = ['darkgreen', 'green', 'forestgreen', 'mediumseagreen','teal',\n",
    "          'darkcyan', 'deepskyblue', 'dodgerblue', 'blue',\n",
    "          'navy', 'indigo', 'darkslateblue', 'darkorchid']"
   ]
  },
  {
   "cell_type": "code",
   "execution_count": null,
   "id": "a8152dfc-155e-4622-bf7f-a51205bed36f",
   "metadata": {},
   "outputs": [],
   "source": [
    "sample_sizes = [1, 5, 10, 30, 50, 100, 500, 1000]\n"
   ]
  },
  {
   "cell_type": "code",
   "execution_count": null,
   "id": "47ba68f1-b752-4434-93d1-9d6d91697436",
   "metadata": {},
   "outputs": [],
   "source": [
    "def demonstrate_clt(population_distribution, dist_name, sample_sizes):\n",
    "    # Determine the number of rows and columns based on the number of sample sizes\n",
    "    n = len(sample_sizes)\n",
    "    rows = math.ceil(n / 2)\n",
    "    cols = 2 if n > 1 else 1\n",
    "\n",
    "    plt.figure(figsize=(18, 6 * rows))\n",
    "    for i, sample_size in enumerate(sample_sizes, 1):\n",
    "        #1.Generate a large number of random samples.\n",
    "        #2. Calculate the mean of each sample.\n",
    "        sample_means = [np.mean(population_distribution(size=sample_size)) for _ in range(1000)]\n",
    "\n",
    "        #Calculate mean and variance of the sample means\n",
    "        mean_of_sample_means = np.mean(sample_means)\n",
    "        variance_of_sample_means = np.var(sample_means)\n",
    "\n",
    "        #3.1 Plot the histogram of the sample means\n",
    "        plt.subplot(rows, cols, i)\n",
    "        plt.hist(sample_means, bins=30, density=True, alpha=0.6, color=colors[-i], label=f'Sample Means (n={sample_size})')\n",
    "\n",
    "        #3.2 Overlay it with the expected normal distribution.\n",
    "        mu, sigma = mean_of_sample_means, np.std(sample_means)\n",
    "        xmin, xmax = plt.xlim()\n",
    "        x = np.linspace(xmin, xmax, 100)\n",
    "        p = norm.pdf(x, mu, sigma)\n",
    "        plt.plot(x, p, 'k', linewidth=2, label='Normal Distribution')\n",
    "\n",
    "        # Include mean and variance in the title or as a text annotation\n",
    "        plt.title(f'{dist_name} (n={sample_size})\\nMean: {mean_of_sample_means:.5f}, Variance: {variance_of_sample_means:.5f}')\n",
    "        plt.legend()\n",
    "\n",
    "    plt.tight_layout()\n",
    "    plt.show()"
   ]
  },
  {
   "cell_type": "markdown",
   "id": "b112781f-92db-4b0c-bb89-9c1413a32ccb",
   "metadata": {},
   "source": [
    "## 1. Uniform Distribution:"
   ]
  },
  {
   "cell_type": "code",
   "execution_count": null,
   "id": "963da78a-b225-4b1f-9872-8595f65f36b2",
   "metadata": {},
   "outputs": [],
   "source": [
    "demonstrate_clt(lambda size: np.random.uniform(low=0, high=1, size=size), 'Uniform Distribution', sample_sizes)\n"
   ]
  },
  {
   "cell_type": "markdown",
   "id": "c313ee03-47c8-401d-afda-5cca4b364b45",
   "metadata": {},
   "source": [
    "## 2. Exponential Distribution\n"
   ]
  },
  {
   "cell_type": "code",
   "execution_count": null,
   "id": "2c5a343a-ba34-4003-8171-a3c91b028cf0",
   "metadata": {},
   "outputs": [],
   "source": [
    "demonstrate_clt(lambda size: np.random.exponential(scale=1, size=size), 'Exponential Distribution', sample_sizes)\n"
   ]
  },
  {
   "cell_type": "markdown",
   "id": "b0d4320c-ccef-482c-afe7-7a45ada7658c",
   "metadata": {},
   "source": [
    "## 3. Binomial Distribution"
   ]
  },
  {
   "cell_type": "code",
   "execution_count": null,
   "id": "d9956a8a-6aff-4b45-810e-6d1dff82f616",
   "metadata": {},
   "outputs": [],
   "source": [
    "demonstrate_clt(lambda size: np.random.binomial(n=10, p=0.5, size=size), 'Binomial Distribution', sample_sizes)\n"
   ]
  },
  {
   "cell_type": "code",
   "execution_count": null,
   "id": "ed731b08-16a9-4e4b-a88e-cdee5111dd04",
   "metadata": {},
   "outputs": [],
   "source": []
  },
  {
   "cell_type": "code",
   "execution_count": null,
   "id": "fb2d89aa-5baa-4175-b8ae-c1e599b0eec4",
   "metadata": {},
   "outputs": [],
   "source": []
  }
 ],
 "metadata": {
  "kernelspec": {
   "display_name": "Python 3 (ipykernel)",
   "language": "python",
   "name": "python3"
  },
  "language_info": {
   "codemirror_mode": {
    "name": "ipython",
    "version": 3
   },
   "file_extension": ".py",
   "mimetype": "text/x-python",
   "name": "python",
   "nbconvert_exporter": "python",
   "pygments_lexer": "ipython3",
   "version": "3.12.2"
  }
 },
 "nbformat": 4,
 "nbformat_minor": 5
}
