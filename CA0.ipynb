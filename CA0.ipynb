{
 "cells": [
  {
   "cell_type": "markdown",
   "id": "ae93deb6",
   "metadata": {},
   "source": [
    "### Necessary Libraries"
   ]
  },
  {
   "cell_type": "code",
   "execution_count": null,
   "id": "e98c8268-ee5c-4210-9e04-c449c744839d",
   "metadata": {
    "scrolled": true
   },
   "outputs": [],
   "source": [
    "%%capture\n",
    "%pip install numpy pandas matplotlib seaborn scipy selenium webdriver_manager scikit-learn"
   ]
  },
  {
   "cell_type": "code",
   "execution_count": null,
   "id": "54fa10db-ec9e-4921-870a-50066926ed2d",
   "metadata": {},
   "outputs": [],
   "source": [
    "import numpy as np\n",
    "import pandas as pd\n",
    "import matplotlib.pyplot as plt\n",
    "import seaborn as sns\n",
    "from scipy.stats import norm\n",
    "from sklearn.cluster import KMeans"
   ]
  },
  {
   "cell_type": "markdown",
   "id": "2ecfbb4b0c704e67",
   "metadata": {
    "collapsed": false,
    "jupyter": {
     "outputs_hidden": false
    }
   },
   "source": [
    "# Web Scraping and Introductory Data Analysis\n",
    "\n",
    "Welcome to Homework 0, where we will delve into web scraping and perform an introductory data analysis. This homework will be a hands-on exercise that will help you become familiar with the process of extracting data from websites and conducting basic statistical analysis. \n",
    "\n",
    "## Objectives\n",
    "\n",
    "By the end of this homework, you will be able to:\n",
    "\n",
    "1. Set up a Python environment with the necessary libraries for web scraping and data analysis.\n",
    "2. Write a web scraping script using Beautiful Soup and Selenium to collect data from a website.\n",
    "3. Sample from the collected dataset and compare the statistics of the sample and the population.\n",
    "   \n",
    "## Tasks\n",
    "\n",
    "1. **Environment Setup**: Install the required libraries such as Beautiful Soup, Selenium, pandas, numpy, matplotlib, and seaborn.\n",
    "\n",
    "2. **Web Scraping**: Write a script to scrape transaction data from [Etherscan.io](https://etherscan.io/txs). Use Selenium to interact with the website and Beautiful Soup to parse the HTML content.\n",
    "\n",
    "3. **Data Sampling**: Once the data is collected, create a sample from the dataset. Compare the sample statistics (mean and standard deviation) with the population statistics.\n",
    "\n",
    "\n",
    "## Deliverables\n",
    "\n",
    "1. A Jupyter notebook with all the code and explanations.\n",
    "2. A detailed report on the findings, including the comparison of sample and population statistics.\n",
    "Note: You can include the report in your notebook.\n",
    "\n",
    "## Getting Started\n",
    "\n",
    "Begin by setting up your Python environment and installing the necessary libraries. Then, proceed with the web scraping task, ensuring that you handle any potential issues such as rate limiting. Once you have the data, move on to the data sampling and statistical analysis tasks. \n",
    "\n",
    "Remember to document your process and findings in the Jupyter notebook, and to include visualizations where appropriate to illustrate your results. <br>\n",
    "Good luck, and happy scraping!"
   ]
  },
  {
   "cell_type": "markdown",
   "id": "1ca352a49724d191",
   "metadata": {
    "collapsed": false,
    "jupyter": {
     "outputs_hidden": false
    }
   },
   "source": [
    "## Data Collection (Etherscan)\n",
    "\n",
    "In this section, we will use web scraping to gather transaction data from the Ethereum blockchain using the Etherscan block explorer. Our objective is to collect transactions from the **last 10 blocks** on Ethereum.\n",
    "\n",
    "To accomplish this task, we will employ web scraping techniques to extract the transaction data from the Etherscan website. The URL we will be targeting for our data collection is:\n",
    "\n",
    "[https://etherscan.io/txs](https://etherscan.io/txs)\n",
    "\n",
    "### Steps\n",
    "\n",
    "1. **Navigate to the URL**: Use Selenium to open the Etherscan transactions page in a browser.\n",
    "\n",
    "2. **Locate the Transaction Data**: Identify the HTML elements that contain the transaction data for the specified block range.\n",
    "\n",
    "3. **Extract the Data**: Write a script to extract the transaction details e.g. Hash, Method, Block, etc.\n",
    "\n",
    "4. **Handle Pagination**: If the transactions span multiple pages, implement pagination handling to navigate through the pages and collect all relevant transaction data.\n",
    "\n",
    "5. **Store the Data**: Save the extracted transaction data into a structured format, such as a CSV file or a pandas DataFrame, for further analysis.\n",
    "\n",
    "### Considerations\n",
    "\n",
    "- **Rate Limiting**: Be mindful of the website's rate limits to avoid being blocked. Implement delays between requests if necessary.\n",
    "- **Dynamic Content**: The Etherscan website may load content dynamically. Ensure that Selenium waits for the necessary elements to load before attempting to scrape the data.\n",
    "- **Data Cleaning**: After extraction, clean the data to remove any inconsistencies or errors that may have occurred during the scraping process.\n",
    "\n",
    "### Resources\n",
    "\n",
    "- [Beautiful Soup Documentation](https://www.crummy.com/software/BeautifulSoup/bs4/doc/)\n",
    "- [Selenium Documentation](https://selenium-python.readthedocs.io/)\n",
    "- [Pandas Documentation](https://pandas.pydata.org/docs/)\n",
    "- [Ethereum](https://ethereum.org/en/)"
   ]
  },
  {
   "cell_type": "code",
   "execution_count": null,
   "id": "02a2258d",
   "metadata": {},
   "outputs": [],
   "source": [
    "import os\n",
    "import subprocess\n",
    "\n",
    "def run_script(script, output_file=None):\n",
    "    if output_file is None or not os.path.exists(output_file):\n",
    "        print(f\"- running {script} to create {output_file}\")\n",
    "        process = subprocess.Popen([\"python\", script], \n",
    "                                stdout=subprocess.PIPE, \n",
    "                                stderr=subprocess.PIPE,\n",
    "                                text=True)\n",
    "        while True:\n",
    "            output = process.stdout.readline()\n",
    "            if output == '' and process.poll() is not None:\n",
    "                break\n",
    "            if output:\n",
    "                print(output.strip())\n",
    "                \n",
    "        if process.poll() is None:\n",
    "            process.terminate()"
   ]
  },
  {
   "cell_type": "code",
   "execution_count": null,
   "id": "6a195207",
   "metadata": {},
   "outputs": [],
   "source": [
    "import os\n",
    "\n",
    "if not os.path.exists('data'):\n",
    "    os.makedirs('data')"
   ]
  },
  {
   "cell_type": "markdown",
   "id": "73acff78",
   "metadata": {},
   "source": [
    "### Scraping Data from [etherscan.io](https://etherscan.io/txs)\n",
    "\n",
    "In order to collect data from the website, 'scrape.py' has been written. The workflow of this code is as follows:"
   ]
  },
  {
   "cell_type": "markdown",
   "id": "968413a8",
   "metadata": {},
   "source": [
    "In addition in order to shorten the runtime, the function `run_script` is added to the notebook that only runs a script if a specific file does not exist."
   ]
  },
  {
   "cell_type": "code",
   "execution_count": null,
   "id": "0bdddddd",
   "metadata": {},
   "outputs": [],
   "source": [
    "run_script(\"scrape.py\", \"data/data.csv\")"
   ]
  },
  {
   "cell_type": "markdown",
   "id": "a9c8c979",
   "metadata": {},
   "source": [
    "### Cleansing Data"
   ]
  },
  {
   "cell_type": "code",
   "execution_count": null,
   "id": "91e34e28",
   "metadata": {},
   "outputs": [],
   "source": [
    "df = pd.read_csv(\"data/data.csv\", index_col=0)\n",
    "\n",
    "columns_to_be_deleted = list(filter(lambda x: x not in ['Txn Fee', 'Value', 'Block', 'Method'], df.columns))\n",
    "\n",
    "# 1. deleting unused columns\n",
    "df.drop(columns_to_be_deleted, axis=1, inplace=True)\n",
    "\n",
    "# 2. filtering data by whether their Value ends with 'ETH'\n",
    "df = df[df['Value'].str.endswith('ETH')]\n",
    "\n",
    "# 3. turning Txn Fee column into float\n",
    "df['Txn Fee'] = pd.to_numeric(df['Txn Fee'], errors='coerce')\n",
    "\n",
    "# 4. turning Value column into float\n",
    "df['Value'] = df['Value'].str.replace(' ETH', '').str.replace(',', '').astype(float)\n",
    "\n",
    "# 5. dropping duplicates\n",
    "df.drop_duplicates(inplace=True)\n",
    "\n",
    "# 6. dropping nan cells\n",
    "df.dropna(subset=['Txn Fee', 'Value'], inplace=True)\n",
    "\n",
    "# saving data in 'cleansed_data.csv'\n",
    "df.to_csv('data/cleansed_data.csv', index=False)"
   ]
  },
  {
   "cell_type": "markdown",
   "id": "6a013b104d142cfc",
   "metadata": {
    "collapsed": false,
    "jupyter": {
     "outputs_hidden": false
    }
   },
   "source": [
    "## Data Analysis\n",
    "\n",
    "Now that we have collected the transaction data from Etherscan, the next step is to perform conduct an initial analysis. This task will involve the following steps:\n",
    "\n",
    "1. **Load the Data**: Import the collected transaction data into a pandas DataFrame.\n",
    "\n",
    "2. **Data Cleaning**: Clean the data by converting data types, removing any irrelevant information, and handling **duplicate** values.\n",
    "\n",
    "3. **Statistical Analysis**: Calculate the mean and standard deviation of the population. Evaluate these statistics to understand the distribution of transaction values. The analysis and plotting will be on **Txn Fee** and **Value**.\n",
    "\n",
    "4. **Visualization**: This phase involves the creation of visual representations to aid in the analysis of transaction values. The visualizations include:\n",
    "    - A histogram for each data column, which provides a visual representation of the data distribution. The selection of bin size is crucial and should be based on the data's characteristics to ensure accurate representation. Provide an explanation on the bin size selection!\n",
    "    - A normal distribution plot fitted alongside the histogram to compare the empirical distribution of the data with the theoretical normal distribution.\n",
    "    - A box plot and a violin plot to identify outliers and provide a comprehensive view of the data's distribution.\n",
    "\n",
    "### Deliverables\n",
    "\n",
    "The project aims to deliver the following deliverables:\n",
    "\n",
    "- A refined pandas DataFrame containing the transaction data, which has undergone thorough cleaning and is ready for analysis.\n",
    "- A simple statistical analysis evaluating the population statistics, offering insights into the distribution of transaction values and fees.\n",
    "- A set of visualizations showcasing the distribution of transaction values for the population. These visualizations include histograms, normal distribution plots, box plots, and violin plots, each serving a specific purpose in the analysis.\n",
    "\n",
    "### Getting Started\n",
    "\n",
    "The project starts with the importing of transaction data into a pandas DataFrame, setting the stage for data manipulation and analysis. Subsequent steps involve the cleaning of the data to ensure its quality and reliability. Followed by the calculation of population statistics. Finally, a series of visualizations are created to visually analyze the distribution of transaction values and fees."
   ]
  },
  {
   "cell_type": "code",
   "execution_count": null,
   "id": "33154e4c",
   "metadata": {},
   "outputs": [],
   "source": [
    "df = pd.read_csv('data/cleansed_data.csv', index_col=0)"
   ]
  },
  {
   "cell_type": "code",
   "execution_count": null,
   "id": "e2e1987c",
   "metadata": {},
   "outputs": [],
   "source": [
    "df.head()"
   ]
  },
  {
   "cell_type": "code",
   "execution_count": null,
   "id": "bb9740ae",
   "metadata": {},
   "outputs": [],
   "source": [
    "df.info()"
   ]
  },
  {
   "cell_type": "code",
   "execution_count": null,
   "id": "b3d248b4",
   "metadata": {},
   "outputs": [],
   "source": [
    "txn_fee_mean = df['Txn Fee'].mean()\n",
    "txn_fee_std = df['Txn Fee'].std()\n",
    "\n",
    "value_mean = df['Value'].mean()\n",
    "value_std = df['Value'].std()\n",
    "\n",
    "print(f\"Txn Fee\\n\\t Mean: {txn_fee_mean}, Standard Deviation: {txn_fee_std}\")\n",
    "print(f\"Value\\n\\t Mean: {value_mean}, Standard Deviation: {value_std}\")"
   ]
  },
  {
   "cell_type": "markdown",
   "id": "8d016782",
   "metadata": {},
   "source": [
    "### Adding Logarithm Columns"
   ]
  },
  {
   "cell_type": "code",
   "execution_count": null,
   "id": "e4ebe824",
   "metadata": {},
   "outputs": [],
   "source": [
    "df.loc[:, ['Log Txn Fee']] = np.log(df['Txn Fee'])\n",
    "df.loc[:, ['Log Value']] = np.log(df['Value'].replace(0, np.nan))"
   ]
  },
  {
   "cell_type": "code",
   "execution_count": null,
   "id": "ca995678",
   "metadata": {},
   "outputs": [],
   "source": [
    "internal_tx_df = df[df['Value'] == 0]\n",
    "external_tx_df = df[df['Value'] != 0]"
   ]
  },
  {
   "cell_type": "code",
   "execution_count": null,
   "id": "99c212b8",
   "metadata": {},
   "outputs": [],
   "source": [
    "internal_tx_df.to_csv('data/internal_transfers.csv', index=False)\n",
    "external_tx_df.to_csv('data/external_transfers.csv', index=False)"
   ]
  },
  {
   "cell_type": "code",
   "execution_count": null,
   "id": "4ae478ed",
   "metadata": {},
   "outputs": [],
   "source": [
    "log_txn_fee_mean = df['Log Txn Fee'].mean()\n",
    "log_txn_fee_std = df['Log Txn Fee'].std()\n",
    "\n",
    "log_value_mean = df['Log Value'].mean()\n",
    "log_value_std = df['Log Value'].std()\n",
    "\n",
    "print(f\"Log Txn Fee\\n\\t Mean: {log_txn_fee_mean}, Standard Deviation: {log_txn_fee_std}\")\n",
    "print(f\"Log Value\\n\\t Mean: {log_value_mean}, Standard Deviation: {log_value_std}\")"
   ]
  },
  {
   "cell_type": "markdown",
   "id": "01fca0df",
   "metadata": {},
   "source": [
    "### Information About Dataframes"
   ]
  },
  {
   "cell_type": "code",
   "execution_count": null,
   "id": "e8720967",
   "metadata": {},
   "outputs": [],
   "source": [
    "internal_tx_df.info()"
   ]
  },
  {
   "cell_type": "code",
   "execution_count": null,
   "id": "4aa98af1",
   "metadata": {},
   "outputs": [],
   "source": [
    "external_tx_df.info()"
   ]
  },
  {
   "cell_type": "markdown",
   "id": "2e89fcb4",
   "metadata": {},
   "source": [
    "### Histograms and the Fitted Normal Distribution"
   ]
  },
  {
   "cell_type": "code",
   "execution_count": null,
   "id": "2e0877c0",
   "metadata": {},
   "outputs": [],
   "source": [
    "def plot_histogram_and_normal_dist(df, column, bin_size='auto', title=''):\n",
    "    sns.histplot(df[column], bins=bin_size, kde=False, stat='density', label='Histogram')\n",
    "    xmin, xmax = plt.xlim()\n",
    "    x = np.linspace(xmin, xmax, 100)\n",
    "    p = norm.pdf(x, df[column].mean(), df[column].std())\n",
    "    plt.plot(x, p, 'k', linewidth=2, label='Normal dist')\n",
    "    title = title or f'Distribution of {column}'\n",
    "    plt.title(title)\n",
    "    plt.legend()"
   ]
  },
  {
   "cell_type": "markdown",
   "id": "4d9b8815",
   "metadata": {},
   "source": [
    "#### Internal Transfers"
   ]
  },
  {
   "cell_type": "code",
   "execution_count": null,
   "id": "ad7407e7",
   "metadata": {},
   "outputs": [],
   "source": [
    "plt.figure(figsize=(12, 6))\n",
    "plot_histogram_and_normal_dist(internal_tx_df, 'Log Txn Fee', title='Log Txn Fee Distribution for Internal Transfers')\n",
    "plt.show()"
   ]
  },
  {
   "cell_type": "markdown",
   "id": "2ac39071",
   "metadata": {},
   "source": [
    "#### External Transfers"
   ]
  },
  {
   "cell_type": "code",
   "execution_count": null,
   "id": "631d3c1a",
   "metadata": {},
   "outputs": [],
   "source": [
    "plt.figure(figsize=(12, 6))\n",
    "plt.subplot(2, 1, 1)\n",
    "plot_histogram_and_normal_dist(external_tx_df, 'Log Txn Fee', title='Log Txn Fee Distribution for External Transfers')\n",
    "\n",
    "plt.subplot(2, 1, 2)\n",
    "plot_histogram_and_normal_dist(external_tx_df, 'Log Value', title='Log Value Distribution for External Transfers')\n",
    "\n",
    "plt.subplots_adjust(hspace=1)\n",
    "plt.show()"
   ]
  },
  {
   "cell_type": "markdown",
   "id": "c926bde3",
   "metadata": {},
   "source": [
    "### Violin and Box Plots "
   ]
  },
  {
   "cell_type": "markdown",
   "id": "1b1e6fe9",
   "metadata": {},
   "source": [
    "#### Internal Transfers"
   ]
  },
  {
   "cell_type": "code",
   "execution_count": null,
   "id": "73d0c64d",
   "metadata": {},
   "outputs": [],
   "source": [
    "plt.figure(figsize=(14, 7))\n",
    "plt.subplot(1, 2, 1)\n",
    "sns.boxplot(data=internal_tx_df, y='Log Txn Fee')\n",
    "plt.title('Box Plot of Log Txn Fee for Internal Transfers')\n",
    "\n",
    "plt.subplot(1, 2, 2)\n",
    "sns.violinplot(data=internal_tx_df, y='Log Txn Fee')\n",
    "plt.title('Violin Plot of Log Txn Fee for Internal Transfers')\n",
    "\n",
    "plt.show()"
   ]
  },
  {
   "cell_type": "markdown",
   "id": "07b80ddb",
   "metadata": {},
   "source": [
    "#### External Transfers"
   ]
  },
  {
   "cell_type": "markdown",
   "id": "b0da9ae9",
   "metadata": {},
   "source": [
    "##### Transaction Fee"
   ]
  },
  {
   "cell_type": "code",
   "execution_count": null,
   "id": "8b6cdc8f",
   "metadata": {},
   "outputs": [],
   "source": [
    "plt.figure(figsize=(14, 7))\n",
    "plt.subplot(1, 2, 1)\n",
    "sns.boxplot(data=external_tx_df, y='Log Txn Fee')\n",
    "plt.title('Box Plot of Log Txn Fee for External Transfers')\n",
    "\n",
    "plt.subplot(1, 2, 2)\n",
    "sns.violinplot(data=external_tx_df, y='Log Txn Fee')\n",
    "plt.title('Violin Plot of Log Txn Fee for External Transfers')\n",
    "\n",
    "plt.show()"
   ]
  },
  {
   "cell_type": "markdown",
   "id": "0f8cc7ea",
   "metadata": {},
   "source": [
    "##### Value"
   ]
  },
  {
   "cell_type": "code",
   "execution_count": null,
   "id": "acc96a23",
   "metadata": {},
   "outputs": [],
   "source": [
    "plt.figure(figsize=(14, 7))\n",
    "plt.subplot(1, 2, 1)\n",
    "sns.boxplot(data=external_tx_df, y='Log Value')\n",
    "plt.title('Box Plot of Log Value for External Transfers')\n",
    "\n",
    "plt.subplot(1, 2, 2)\n",
    "sns.violinplot(data=external_tx_df, y='Log Value')\n",
    "plt.title('Violin Plot of Log Value for External Transfers')\n",
    "\n",
    "plt.show()"
   ]
  },
  {
   "cell_type": "markdown",
   "id": "c63f9239",
   "metadata": {},
   "source": [
    "### Clustering External Transaction Fees Using K-Means"
   ]
  },
  {
   "cell_type": "code",
   "execution_count": null,
   "id": "49a3b05d",
   "metadata": {},
   "outputs": [],
   "source": [
    "kmeans = KMeans(n_clusters=2, random_state=42, n_init=5)\n",
    "kmeans.fit(external_tx_df[['Log Txn Fee']].values)\n",
    "external_tx_c0_df = external_tx_df[kmeans.labels_ == 0]\n",
    "external_tx_c1_df = external_tx_df[kmeans.labels_ == 1]\n",
    "external_tx_c0_df.to_csv('data/external_transfers_cluster0.csv', index=False)\n",
    "external_tx_c1_df.to_csv('data/external_transfers_cluster1.csv', index=False)"
   ]
  },
  {
   "cell_type": "code",
   "execution_count": null,
   "id": "b0ebbb3d",
   "metadata": {},
   "outputs": [],
   "source": [
    "kmeans = KMeans(n_clusters=2, random_state=42, n_init=5)\n",
    "kmeans.fit(internal_tx_df[['Log Txn Fee']].values)\n",
    "internal_tx_c0_df = internal_tx_df[kmeans.labels_ == 0]\n",
    "internal_tx_c1_df = internal_tx_df[kmeans.labels_ == 1]\n",
    "internal_tx_c0_df.to_csv('data/internal_transfers_cluster0.csv', index=False)\n",
    "internal_tx_c1_df.to_csv('data/internal_transfers_cluster1.csv', index=False)"
   ]
  },
  {
   "cell_type": "markdown",
   "id": "9896967d",
   "metadata": {},
   "source": [
    "### Violin and Box Plots After Clustering "
   ]
  },
  {
   "cell_type": "code",
   "execution_count": null,
   "id": "3fd55636",
   "metadata": {},
   "outputs": [],
   "source": [
    "def plot_violin_and_box_plots_for_clusters(c0_df, c1_df, column, **options):\n",
    "    \n",
    "    ylim = options['ylim'] if 'ylim' in options.keys() else None\n",
    "    titles = options['titles'] if 'titles' in options.keys() else []\n",
    "    \n",
    "    plt.subplot(2, 2, 1)\n",
    "    sns.boxplot(data=c0_df, y=column)\n",
    "    plt.title(titles[0])\n",
    "    plt.ylim(ylim)\n",
    "\n",
    "    plt.subplot(2, 2, 2)\n",
    "    sns.violinplot(data=c0_df, y=column)\n",
    "    plt.title(titles[1])\n",
    "    plt.ylim(ylim)\n",
    "\n",
    "    plt.subplot(2, 2, 3)\n",
    "    sns.boxplot(data=c1_df, y=column)\n",
    "    plt.title(titles[2])\n",
    "    plt.ylim(ylim)\n",
    "\n",
    "    plt.subplot(2, 2, 4)\n",
    "    sns.violinplot(data=c1_df, y=column)\n",
    "    plt.title(titles[3])\n",
    "    plt.ylim(ylim)\n",
    "    "
   ]
  },
  {
   "cell_type": "markdown",
   "id": "b641448b",
   "metadata": {},
   "source": [
    "#### Internal Transfers"
   ]
  },
  {
   "cell_type": "code",
   "execution_count": null,
   "id": "f982d969",
   "metadata": {},
   "outputs": [],
   "source": [
    "ymin, ymax = internal_tx_df['Log Txn Fee'].min(), internal_tx_df['Log Txn Fee'].max()\n",
    "plt.figure(figsize=(14, 14))\n",
    "plot_violin_and_box_plots_for_clusters(internal_tx_c0_df, \\\n",
    "                                       internal_tx_c1_df, \\\n",
    "                                       'Log Txn Fee', \\\n",
    "                                       ylim=(ymin, ymax), \\\n",
    "                                       titles=[ \\\n",
    "                                           \"Box Plot of 'Log Txn Fee' for Internal Transfers in Cluster 0\", \\\n",
    "                                           \"Violin Plot of 'Log Txn Fee' for Internal Transfers in Cluster 0\", \\\n",
    "                                           \"Box Plot of 'Log Txn Fee' for Internal Transfers in Cluster 1\", \\\n",
    "                                           \"Violin Plot of 'Log Txn Fee' for Internal Transfers in Cluster 1\" \\\n",
    "                                       ])\n",
    "plt.show()"
   ]
  },
  {
   "cell_type": "markdown",
   "id": "78b67bc2",
   "metadata": {},
   "source": [
    "#### External Transfers"
   ]
  },
  {
   "cell_type": "markdown",
   "id": "98a275f2",
   "metadata": {},
   "source": [
    "##### Transaction Fee"
   ]
  },
  {
   "cell_type": "code",
   "execution_count": null,
   "id": "92b3911c",
   "metadata": {},
   "outputs": [],
   "source": [
    "ymin, ymax = external_tx_df['Log Txn Fee'].min(), external_tx_df['Log Txn Fee'].max()\n",
    "plt.figure(figsize=(14, 14))\n",
    "plot_violin_and_box_plots_for_clusters(external_tx_c0_df, \\\n",
    "                                       external_tx_c1_df, \\\n",
    "                                       'Log Txn Fee', \\\n",
    "                                       ylim=(ymin, ymax), \\\n",
    "                                       titles=[ \\\n",
    "                                           \"Box Plot of 'Log Txn Fee' for External Transfers in Cluster 0\", \\\n",
    "                                           \"Violin Plot of 'Log Txn Fee' for External Transfers in Cluster 0\", \\\n",
    "                                           \"Box Plot of 'Log Txn Fee' for External Transfers in Cluster 1\", \\\n",
    "                                           \"Violin Plot of 'Log Txn Fee' for External Transfers in Cluster 1\" \\\n",
    "                                       ])\n",
    "plt.show()"
   ]
  },
  {
   "cell_type": "markdown",
   "id": "e74388e6",
   "metadata": {},
   "source": [
    "##### Value"
   ]
  },
  {
   "cell_type": "code",
   "execution_count": null,
   "id": "7e9eb8f8",
   "metadata": {},
   "outputs": [],
   "source": [
    "ymin, ymax = external_tx_df['Log Value'].min(), external_tx_df['Log Value'].max()\n",
    "plt.figure(figsize=(14, 14))\n",
    "plot_violin_and_box_plots_for_clusters(external_tx_c0_df, \\\n",
    "                                       external_tx_c1_df, \\\n",
    "                                       'Log Value', \\\n",
    "                                       ylim=(ymin, ymax), \\\n",
    "                                       titles=[ \\\n",
    "                                           \"Box Plot of 'Log Value' for External Transfers in Cluster 0\", \\\n",
    "                                           \"Violin Plot of 'Log Value' for External Transfers in Cluster 0\", \\\n",
    "                                           \"Box Plot of 'Log Value' for External Transfers in Cluster 1\", \\\n",
    "                                           \"Violin Plot of 'Log Value' for External Transfers in Cluster 1\" \\\n",
    "                                       ])\n",
    "plt.show()"
   ]
  },
  {
   "cell_type": "markdown",
   "id": "806ab11a",
   "metadata": {},
   "source": [
    "### Removing Outliers"
   ]
  },
  {
   "cell_type": "code",
   "execution_count": null,
   "id": "c2803dcd",
   "metadata": {},
   "outputs": [],
   "source": [
    "def remove_outliers(df, column):\n",
    "    Q1 = df[column].quantile(0.25)\n",
    "    Q3 = df[column].quantile(0.75)\n",
    "    IQR = Q3 - Q1\n",
    "\n",
    "    threshold = 1.5\n",
    "    lower_bound = Q1 - threshold * IQR\n",
    "    upper_bound = Q3 + threshold * IQR\n",
    "\n",
    "    outliers = ((df[column] < lower_bound) | (df[column] > upper_bound))\n",
    "\n",
    "    return df[~outliers]"
   ]
  },
  {
   "cell_type": "code",
   "execution_count": null,
   "id": "d713be38",
   "metadata": {},
   "outputs": [],
   "source": [
    "external_tx_c0_df_no_outliers = remove_outliers(external_tx_c0_df, 'Log Txn Fee')\n",
    "external_tx_c0_df_no_outliers.to_csv('data/external_transfers_cluster0_without_outliers.csv', index=False)\n",
    "\n",
    "external_tx_c1_df_no_outliers = remove_outliers(external_tx_c1_df, 'Log Txn Fee')\n",
    "external_tx_c1_df_no_outliers.to_csv('data/external_transfers_cluster1_without_outliers.csv', index=False)"
   ]
  },
  {
   "cell_type": "code",
   "execution_count": null,
   "id": "db3a1a60",
   "metadata": {},
   "outputs": [],
   "source": [
    "internal_tx_c0_df_no_outliers = remove_outliers(internal_tx_c0_df, 'Log Txn Fee')\n",
    "internal_tx_c0_df_no_outliers.to_csv('data/internal_transfers_cluster0_without_outliers.csv', index=False)\n",
    "\n",
    "internal_tx_c1_df_no_outliers = remove_outliers(internal_tx_c1_df, 'Log Txn Fee')\n",
    "internal_tx_c1_df_no_outliers.to_csv('data/internal_transfers_cluster1_without_outliers.csv', index=False)"
   ]
  },
  {
   "cell_type": "code",
   "execution_count": null,
   "id": "8d36093f",
   "metadata": {},
   "outputs": [],
   "source": [
    "plt.figure(figsize=(14, 7))\n",
    "plt.subplot(2, 1, 1)\n",
    "plot_histogram_and_normal_dist(internal_tx_c0_df_no_outliers, 'Log Txn Fee', title='Log Txn Fee Distribution for Internal Transfers in the First Cluster', bin_size=10)\n",
    "\n",
    "plt.subplot(2, 1, 2)\n",
    "plot_histogram_and_normal_dist(internal_tx_c1_df_no_outliers, 'Log Txn Fee', title='Log Txn Fee Distribution for Internal Transfers in the Second Cluster')\n",
    "plt.subplots_adjust(hspace=1)\n",
    "plt.show()"
   ]
  },
  {
   "cell_type": "code",
   "execution_count": null,
   "id": "83fe04f0",
   "metadata": {},
   "outputs": [],
   "source": [
    "plt.figure(figsize=(14, 7))\n",
    "plt.subplot(2, 1, 1)\n",
    "plot_histogram_and_normal_dist(external_tx_c0_df_no_outliers, 'Log Txn Fee', title='Log Txn Fee Distribution for External Transfers in the First Cluster', bin_size=10)\n",
    "\n",
    "plt.subplot(2, 1, 2)\n",
    "plot_histogram_and_normal_dist(external_tx_c1_df_no_outliers, 'Log Txn Fee', title='Log Txn Fee Distribution for External Transfers in the Second Cluster')\n",
    "plt.subplots_adjust(hspace=1)\n",
    "plt.show()"
   ]
  },
  {
   "cell_type": "code",
   "execution_count": null,
   "id": "99c5818d",
   "metadata": {},
   "outputs": [],
   "source": [
    "%%script echo \"skipped\"\n",
    "\n",
    "X = external_tx_c0_df_no_outliers['Log Txn Fee']\n",
    "Y = external_tx_c0_df_no_outliers['Log Value']\n",
    "\n",
    "plt.figure(figsize=(14, 7))\n",
    "plt.scatter(X, Y)\n",
    "plt.show()\n",
    "print(f\"correlation of X with Y = {X.corr(Y)}\")"
   ]
  },
  {
   "cell_type": "markdown",
   "id": "87030e5e0b4fe1e6",
   "metadata": {
    "collapsed": false,
    "jupyter": {
     "outputs_hidden": false
    }
   },
   "source": [
    "## Data Sampling and Analysis\n",
    "\n",
    "In this section, we will delve into the process of data sampling and perform an initial analysis on the transaction data we have collected. Our objective is to understand the distribution of transaction values by sampling the data and comparing the sample statistics with the population statistics.\n",
    "\n",
    "### Steps\n",
    "\n",
    "1. **Load the Data**: Import the collected transaction data into a pandas DataFrame.\n",
    "\n",
    "2. **Data Cleaning**: Clean the data by handling missing values, converting data types, and removing any irrelevant information.\n",
    "\n",
    "3. **Simple Random Sampling (SRS)**: Create a sample from the dataset using a simple random sampling method. This involves randomly selecting a subset of the data without regard to any specific characteristics of the data.\n",
    "\n",
    "4. **Stratified Sampling**: Create another sample from the dataset using a stratified sampling method. This involves dividing the data into strata based on a specific characteristic (e.g., transaction value) and then randomly selecting samples from each stratum. Explain what you have stratified the data by and why you chose this column.\n",
    "\n",
    "5. **Statistical Analysis**: Calculate the mean and standard deviation of the samples and the population. Compare these statistics to understand the distribution of transaction values.\n",
    "\n",
    "6. **Visualization**: Plot the distribution of transaction values and fees for both the samples and the population to visually compare their distributions.\n",
    "\n",
    "### Considerations\n",
    "\n",
    "- **Sample Size**: The size of the sample should be large enough to represent the population accurately but not so large that it becomes impractical to analyze.\n",
    "- **Sampling Method**: Choose the appropriate sampling method based on the characteristics of the data and the research question.\n",
    "\n",
    "Explain the above considerations in your report."
   ]
  },
  {
   "cell_type": "markdown",
   "id": "4dcf8227-3726-456f-b284-4bfd1eeb9b85",
   "metadata": {},
   "source": [
    "## Sampling:"
   ]
  },
  {
   "cell_type": "markdown",
   "id": "349f3a0b-9539-42fe-a8f3-cae30cc1d9ef",
   "metadata": {},
   "source": [
    "#### Define Sampling Size:"
   ]
  },
  {
   "cell_type": "code",
   "execution_count": null,
   "id": "04fc96f2-bd6b-4b9e-9e1f-6d55743af9ee",
   "metadata": {},
   "outputs": [],
   "source": [
    "def calculate_sample_size(N, sigma, E, confidence_level):\n",
    "    alpha = 1 - confidence_level\n",
    "    Z = norm.ppf(1 - alpha/2)  # Z-score from the normal distribution\n",
    "    numerator = N * (Z**2) * (sigma**2)\n",
    "    denominator = (E**2) * (N-1) + (Z**2) * (sigma**2)\n",
    "    sample_size = numerator / denominator\n",
    "    return round(sample_size)"
   ]
  },
  {
   "cell_type": "code",
   "execution_count": null,
   "id": "33ebd3f6-76c1-4c7c-8976-59c4652a45d1",
   "metadata": {},
   "outputs": [],
   "source": [
    "sample_size_value = calculate_sample_size(len(df), log_txn_fee_std, 0.5, 0.95)\n",
    "sample_size_fee = calculate_sample_size(len(df), log_value_std, 0.5, 0.95)\n",
    "sample_size = max(sample_size_value, sample_size_fee)\n",
    "sample_size, len(df)"
   ]
  },
  {
   "cell_type": "markdown",
   "id": "e4b83eb6-a1f6-4cc7-8791-2cca48891dc0",
   "metadata": {},
   "source": [
    "#### Simple Random Sampling"
   ]
  },
  {
   "cell_type": "code",
   "execution_count": null,
   "id": "1525167c-2686-4305-b918-18de005dbb3f",
   "metadata": {},
   "outputs": [],
   "source": [
    "SRS_samples = df.sample(n = sample_size)\n",
    "SRS_samples.to_csv(\"data/SRS_samples.csv\", index=False)"
   ]
  },
  {
   "cell_type": "code",
   "execution_count": null,
   "id": "f4ef41f0-4775-44d7-ab9b-2b4f4b55b202",
   "metadata": {},
   "outputs": [],
   "source": [
    "SRS_samples"
   ]
  },
  {
   "cell_type": "markdown",
   "id": "ce2d7b36-fd7b-45ea-b9df-b6a0c1c16e6f",
   "metadata": {},
   "source": [
    "#### Stratified Sampling"
   ]
  },
  {
   "cell_type": "code",
   "execution_count": null,
   "id": "9f3c2970-4417-4c68-8d38-13cc6741d9b1",
   "metadata": {},
   "outputs": [],
   "source": [
    "stratified_samples = df.groupby('Block', group_keys=False).apply(lambda x: x.sample(round(len(x) * sample_size / len(df))))\n",
    "stratified_samples.to_csv(\"data/stratified_samples.csv\", index=False)"
   ]
  },
  {
   "cell_type": "code",
   "execution_count": null,
   "id": "7e85d107-ca18-4d67-b771-af08df17826b",
   "metadata": {},
   "outputs": [],
   "source": [
    "stratified_samples"
   ]
  },
  {
   "cell_type": "markdown",
   "id": "db51b2c6-b264-48de-b675-08d7893ba79f",
   "metadata": {},
   "source": [
    "## Statistical Analysis:"
   ]
  },
  {
   "cell_type": "markdown",
   "id": "58fe5ca1-fb06-4abf-b351-03507011eba9",
   "metadata": {},
   "source": [
    "#### Simple Random Sampling"
   ]
  },
  {
   "cell_type": "code",
   "execution_count": null,
   "id": "b3f98e1e-5351-4051-8b75-5c7577630776",
   "metadata": {},
   "outputs": [],
   "source": [
    "SRS_log_txn_fee_mean = SRS_samples['Log Txn Fee'].mean()\n",
    "SRS_log_txn_fee_std = SRS_samples['Log Txn Fee'].std()\n",
    "\n",
    "SRS_log_value_mean = SRS_samples['Log Value'].mean()\n",
    "SRS_log_value_std = SRS_samples['Log Value'].std()\n",
    "\n",
    "print(\"Simple Random Sampling:\")\n",
    "print(f\"Log Txn Fee\\n\\t Mean: {SRS_log_txn_fee_mean}, Standard Deviation: {SRS_log_txn_fee_std}\")\n",
    "print(f\"Log Value\\n\\t Mean: {SRS_log_value_mean}, Standard Deviation: {SRS_log_value_std}\")"
   ]
  },
  {
   "cell_type": "markdown",
   "id": "75a936c6-1110-4eaa-b0d5-98e2a7cb619b",
   "metadata": {},
   "source": [
    "#### Stratified Sampling"
   ]
  },
  {
   "cell_type": "code",
   "execution_count": null,
   "id": "80598d51-c0f9-405f-af5c-b349a50348e8",
   "metadata": {},
   "outputs": [],
   "source": [
    "stratified_log_txn_fee_mean = stratified_samples['Log Txn Fee'].mean()\n",
    "straified_log_txn_fee_std = stratified_samples['Log Txn Fee'].std()\n",
    "\n",
    "stratified_log_value_mean = stratified_samples['Log Value'].mean()\n",
    "stratified_log_value_std = stratified_samples['Log Value'].std()\n",
    "\n",
    "print(\"Stratified Random Sampling:\")\n",
    "print(f\"Log Txn Fee\\n\\t Mean: {stratified_log_txn_fee_mean}, Standard Deviation: {stratified_log_txn_fee_mean}\")\n",
    "print(f\"Log Value\\n\\t Mean: {stratified_log_value_mean}, Standard Deviation: {straified_log_txn_fee_std}\")\n"
   ]
  },
  {
   "cell_type": "markdown",
   "id": "bf8eae1f-3cbf-46ee-a6f5-87de5145f0cf",
   "metadata": {},
   "source": [
    "#### Without Sampling"
   ]
  },
  {
   "cell_type": "code",
   "execution_count": null,
   "id": "ad533040-ad1d-410d-bc8a-fc0f87127b1b",
   "metadata": {},
   "outputs": [],
   "source": [
    "print(\"Without Sampling:\")\n",
    "print(f\"Log Txn Fee\\n\\t Mean: {log_txn_fee_mean}, Standard Deviation: {log_txn_fee_std}\")\n",
    "print(f\"Log Value\\n\\t Mean: {log_value_mean}, Standard Deviation: {log_value_std}\")"
   ]
  },
  {
   "cell_type": "markdown",
   "id": "9f5fd4f9-4d9f-4d6d-bf11-f6913ae9ddae",
   "metadata": {},
   "source": [
    "## Visualization"
   ]
  },
  {
   "cell_type": "markdown",
   "id": "22a2072a-11a7-4bab-b677-3cff7489e4d3",
   "metadata": {},
   "source": [
    "#### Simple Random Sampling"
   ]
  },
  {
   "cell_type": "markdown",
   "id": "de55011a-dd85-437f-a8d2-f8152b1e40af",
   "metadata": {},
   "source": [
    "###### Adding Logarithm Columns"
   ]
  },
  {
   "cell_type": "code",
   "execution_count": null,
   "id": "ee10f8c6",
   "metadata": {},
   "outputs": [],
   "source": [
    "SRS_samples.loc[:, ['Log Txn Fee']] = np.log(SRS_samples['Txn Fee'])\n",
    "SRS_samples.loc[:, ['Log Value']] = np.log(SRS_samples['Value'].replace(0, np.nan))"
   ]
  },
  {
   "cell_type": "code",
   "execution_count": null,
   "id": "c9415cb2",
   "metadata": {},
   "outputs": [],
   "source": [
    "SRS_internal_tx_df = SRS_samples[SRS_samples['Value'] == 0]\n",
    "SRS_external_tx_df = SRS_samples[SRS_samples['Value'] != 0]"
   ]
  },
  {
   "cell_type": "code",
   "execution_count": null,
   "id": "74ae4c28",
   "metadata": {},
   "outputs": [],
   "source": [
    "SRS_internal_tx_df.to_csv('data/SRS_internal_transfers.csv', index=False)\n",
    "SRS_external_tx_df.to_csv('data/SRS_external_transfers.csv', index=False)"
   ]
  },
  {
   "cell_type": "code",
   "execution_count": null,
   "id": "bb598814",
   "metadata": {},
   "outputs": [],
   "source": [
    "log_txn_fee_mean = SRS_samples['Log Txn Fee'].mean()\n",
    "log_txn_fee_std = SRS_samples['Log Txn Fee'].std()\n",
    "\n",
    "log_value_mean = SRS_samples['Log Value'].mean()\n",
    "log_value_std = SRS_samples['Log Value'].std()\n",
    "\n",
    "print(f\"Log Txn Fee\\n\\t Mean: {log_txn_fee_mean}, Standard Deviation: {log_txn_fee_std}\")\n",
    "print(f\"Log Value\\n\\t Mean: {log_value_mean}, Standard Deviation: {log_value_std}\")"
   ]
  },
  {
   "cell_type": "markdown",
   "id": "28802198-3692-4b6f-adfb-6735304b3576",
   "metadata": {},
   "source": [
    "#### Information About Dataframes"
   ]
  },
  {
   "cell_type": "code",
   "execution_count": null,
   "id": "c39eb8d6-5d34-48ed-a476-e44b5575b252",
   "metadata": {},
   "outputs": [],
   "source": [
    "SRS_internal_tx_df.info()"
   ]
  },
  {
   "cell_type": "code",
   "execution_count": null,
   "id": "03232834-08d5-4036-b75f-c1c4460d671e",
   "metadata": {},
   "outputs": [],
   "source": [
    "SRS_external_tx_df.info()"
   ]
  },
  {
   "cell_type": "markdown",
   "id": "20e8337b-6a42-43d2-92a3-57b8566807e6",
   "metadata": {},
   "source": [
    "#### Plotting Histograms and the Fitted Normal Distribution"
   ]
  },
  {
   "cell_type": "markdown",
   "id": "b58927fa-01b3-4ebf-83bb-2628f1122184",
   "metadata": {},
   "source": [
    "##### Internal Transfers"
   ]
  },
  {
   "cell_type": "code",
   "execution_count": null,
   "id": "04950ef6-1adc-437e-9eb4-0df3e850efde",
   "metadata": {},
   "outputs": [],
   "source": [
    "plt.figure(figsize=(12, 6))\n",
    "plt.subplot(1, 1, 1)\n",
    "plot_histogram_and_normal_dist(SRS_internal_tx_df, 'Log Txn Fee', title='Log Txn Fee Distribution for Sampled Internal Transfers')\n",
    "plt.show()"
   ]
  },
  {
   "cell_type": "markdown",
   "id": "b1337f3d-6ea2-433c-8fcf-5aeabcb834f8",
   "metadata": {},
   "source": [
    "##### External Transfers"
   ]
  },
  {
   "cell_type": "code",
   "execution_count": null,
   "id": "c11c8f58-2f60-4a73-aef3-b384e965b098",
   "metadata": {},
   "outputs": [],
   "source": [
    "plt.figure(figsize=(12, 6))\n",
    "plt.subplot(2, 1, 1)\n",
    "plot_histogram_and_normal_dist(SRS_external_tx_df, 'Log Txn Fee', title='Log Txn Fee Distribution for SRS External Transfers')\n",
    "\n",
    "plt.subplot(2, 1, 2)\n",
    "plot_histogram_and_normal_dist(SRS_external_tx_df, 'Log Value', title='Log Value Distribution for SRS External Transfers')\n",
    "\n",
    "plt.subplots_adjust(hspace=1)\n",
    "plt.show()"
   ]
  },
  {
   "cell_type": "markdown",
   "id": "495fb44e-71da-4416-bff4-53ec7c8e68dc",
   "metadata": {},
   "source": [
    "##### Violin and Box Plots "
   ]
  },
  {
   "cell_type": "code",
   "execution_count": null,
   "id": "b3caeb83-f927-4923-aecf-cd6396163dc0",
   "metadata": {},
   "outputs": [],
   "source": [
    "plt.figure(figsize=(14, 7))\n",
    "plt.subplot(1, 2, 1)\n",
    "sns.boxplot(data=SRS_internal_tx_df, y='Log Txn Fee')\n",
    "plt.title('Box Plot of Log Txn Fee for SRS External Transfers')\n",
    "\n",
    "plt.subplot(1, 2, 2)\n",
    "sns.violinplot(data=SRS_internal_tx_df, y='Log Txn Fee')\n",
    "plt.title('Violin Plot of Log Txn Fee for SRS External Transfers')\n",
    "\n",
    "plt.show()"
   ]
  },
  {
   "cell_type": "code",
   "execution_count": null,
   "id": "5fbd10e6-c5eb-4bee-8eb3-9d7f6c61bade",
   "metadata": {},
   "outputs": [],
   "source": [
    "plt.figure(figsize=(14, 7))\n",
    "plt.subplot(1, 2, 1)\n",
    "sns.boxplot(data=SRS_external_tx_df, y='Log Txn Fee')\n",
    "plt.title('Box Plot of Log Txn Fee for SRS External Transfers')\n",
    "\n",
    "plt.subplot(1, 2, 2)\n",
    "sns.violinplot(data=SRS_external_tx_df, y='Log Txn Fee')\n",
    "plt.title('Violin Plot of Log Txn Fee for SRS External Transfers')\n",
    "\n",
    "plt.show()"
   ]
  },
  {
   "cell_type": "code",
   "execution_count": null,
   "id": "605aa740-b5b1-4275-b498-df890260f76c",
   "metadata": {},
   "outputs": [],
   "source": [
    "plt.figure(figsize=(14, 7))\n",
    "plt.subplot(1, 2, 1)\n",
    "sns.boxplot(data=SRS_external_tx_df, y='Log Value')\n",
    "plt.title('Box Plot of Log Value for SRS External Transfers')\n",
    "\n",
    "plt.subplot(1, 2, 2)\n",
    "sns.violinplot(data=SRS_external_tx_df, y='Log Value')\n",
    "plt.title('Violin Plot of Log Value for SRS External Transfers')\n",
    "\n",
    "plt.show()"
   ]
  },
  {
   "cell_type": "code",
   "execution_count": null,
   "id": "70b950e0",
   "metadata": {},
   "outputs": [],
   "source": []
  },
  {
   "cell_type": "markdown",
   "id": "054c51e5-bc8e-4ad7-ad45-cee95ca69423",
   "metadata": {},
   "source": [
    "#### Stratified Sampling"
   ]
  },
  {
   "cell_type": "markdown",
   "id": "73631ca7-ecec-4e29-a169-e14c96430a22",
   "metadata": {},
   "source": [
    "###### Adding Logarithm Columns"
   ]
  },
  {
   "cell_type": "code",
   "execution_count": null,
   "id": "8809991b",
   "metadata": {},
   "outputs": [],
   "source": [
    "stratified_samples.loc[:, ['Log Txn Fee']] = np.log(stratified_samples['Txn Fee'])\n",
    "stratified_samples.loc[:, ['Log Value']] = np.log(stratified_samples['Value'].replace(0, np.nan))"
   ]
  },
  {
   "cell_type": "code",
   "execution_count": null,
   "id": "4fa6de03",
   "metadata": {},
   "outputs": [],
   "source": [
    "stratified_internal_tx_df = stratified_samples[stratified_samples['Value'] == 0]\n",
    "stratified_external_tx_df = stratified_samples[stratified_samples['Value'] != 0]"
   ]
  },
  {
   "cell_type": "code",
   "execution_count": null,
   "id": "fab9fa06",
   "metadata": {},
   "outputs": [],
   "source": [
    "stratified_internal_tx_df.to_csv('data/stratified_internal_transfers.csv', index=False)\n",
    "stratified_external_tx_df.to_csv('data/stratified_external_transfers.csv', index=False)"
   ]
  },
  {
   "cell_type": "code",
   "execution_count": null,
   "id": "1f54b86e",
   "metadata": {},
   "outputs": [],
   "source": [
    "log_txn_fee_mean = stratified_samples['Log Txn Fee'].mean()\n",
    "log_txn_fee_std = stratified_samples['Log Txn Fee'].std()\n",
    "\n",
    "log_value_mean = stratified_samples['Log Value'].mean()\n",
    "log_value_std = stratified_samples['Log Value'].std()\n",
    "\n",
    "print(f\"Log Txn Fee\\n\\t Mean: {log_txn_fee_mean}, Standard Deviation: {log_txn_fee_std}\")\n",
    "print(f\"Log Value\\n\\t Mean: {log_value_mean}, Standard Deviation: {log_value_std}\")"
   ]
  },
  {
   "cell_type": "markdown",
   "id": "263d6f0c-8861-412e-b76b-c8d690068f5b",
   "metadata": {},
   "source": [
    "#### Information About Dataframes"
   ]
  },
  {
   "cell_type": "code",
   "execution_count": null,
   "id": "bfa2b195-7931-45b8-b210-afc1a3b32240",
   "metadata": {},
   "outputs": [],
   "source": [
    "stratified_internal_tx_df.info()"
   ]
  },
  {
   "cell_type": "code",
   "execution_count": null,
   "id": "42091c06-e227-46b0-b105-292c69f5741e",
   "metadata": {},
   "outputs": [],
   "source": [
    "stratified_external_tx_df.info()"
   ]
  },
  {
   "cell_type": "markdown",
   "id": "6a40b1f1-54f3-49b8-9d0f-dd0ab9046e8a",
   "metadata": {},
   "source": [
    "#### Plotting Histograms and the Fitted Normal Distribution"
   ]
  },
  {
   "cell_type": "markdown",
   "id": "e61a6bc5-a904-43e1-9532-4bbadbf177fa",
   "metadata": {},
   "source": [
    "##### Internal Transfers"
   ]
  },
  {
   "cell_type": "code",
   "execution_count": null,
   "id": "3f5bd0ef-048c-455e-a3ea-4c8fb5b0c8bc",
   "metadata": {},
   "outputs": [],
   "source": [
    "plt.figure(figsize=(12, 6))\n",
    "plot_histogram_and_normal_dist(stratified_internal_tx_df, 'Log Txn Fee', title='Log Txn Fee Distribution for Stratified Sampled Internal Transfers')\n",
    "plt.show()"
   ]
  },
  {
   "cell_type": "markdown",
   "id": "238b3eae-4a7a-4dba-9cdb-201cdefdf3e7",
   "metadata": {},
   "source": [
    "##### External Transfers"
   ]
  },
  {
   "cell_type": "code",
   "execution_count": null,
   "id": "1093961b-63e4-4aa7-b3f6-c45c27939e54",
   "metadata": {},
   "outputs": [],
   "source": [
    "plt.figure(figsize=(12, 6))\n",
    "plt.subplot(2, 1, 1)\n",
    "plot_histogram_and_normal_dist(stratified_external_tx_df, 'Log Txn Fee', title='Log Txn Fee Distribution for Stratified Sampled External Transfers')\n",
    "\n",
    "plt.subplot(2, 1, 2)\n",
    "plot_histogram_and_normal_dist(stratified_external_tx_df, 'Log Value', title='Log Value Distribution for Stratified Sampled External Transfers')\n",
    "\n",
    "plt.subplots_adjust(hspace=1)\n",
    "plt.show()"
   ]
  },
  {
   "cell_type": "code",
   "execution_count": null,
   "id": "f4742f40-c1a4-4855-b304-d0038f142c3a",
   "metadata": {},
   "outputs": [],
   "source": [
    "plt.figure(figsize=(14, 7))\n",
    "plt.subplot(1, 2, 1)\n",
    "sns.boxplot(data=stratified_internal_tx_df, y='Log Txn Fee')\n",
    "plt.title('Box Plot of Log Txn Fee for Stratified Sampled External Transfers')\n",
    "\n",
    "plt.subplot(1, 2, 2)\n",
    "sns.violinplot(data=stratified_internal_tx_df, y='Log Txn Fee')\n",
    "plt.title('Violin Plot of Log Txn Fee for Stratified Sampled External Transfers')\n",
    "\n",
    "plt.show()"
   ]
  },
  {
   "cell_type": "code",
   "execution_count": null,
   "id": "700fd640-46a0-4ccb-9924-bb7634a82f77",
   "metadata": {},
   "outputs": [],
   "source": [
    "plt.figure(figsize=(14, 7))\n",
    "plt.subplot(1, 2, 1)\n",
    "sns.boxplot(data=stratified_external_tx_df, y='Log Txn Fee')\n",
    "plt.title('Box Plot of Log Txn Fee for Stratified Sampled External Transfers')\n",
    "\n",
    "plt.subplot(1, 2, 2)\n",
    "sns.violinplot(data=stratified_external_tx_df, y='Log Txn Fee')\n",
    "plt.title('Violin Plot of Log Txn Fee for Stratified Sampled External Transfers')\n",
    "\n",
    "plt.show()"
   ]
  },
  {
   "cell_type": "code",
   "execution_count": null,
   "id": "d51e4545-e768-459e-874b-d0b4d09814e5",
   "metadata": {},
   "outputs": [],
   "source": [
    "plt.figure(figsize=(14, 7))\n",
    "plt.subplot(1, 2, 1)\n",
    "sns.boxplot(data=stratified_external_tx_df, y='Log Value')\n",
    "plt.title('Box Plot of Log Value for Stratified Sampled External Transfers')\n",
    "\n",
    "plt.subplot(1, 2, 2)\n",
    "sns.violinplot(data=stratified_external_tx_df, y='Log Value')\n",
    "plt.title('Violin Plot of Log Value for Stratified Sampled External Transfers')\n",
    "\n",
    "plt.show()"
   ]
  },
  {
   "cell_type": "code",
   "execution_count": null,
   "id": "e109c76b-d92d-4c02-9f49-3af9999a4de0",
   "metadata": {},
   "outputs": [],
   "source": []
  }
 ],
 "metadata": {
  "kernelspec": {
   "display_name": "Python 3 (ipykernel)",
   "language": "python",
   "name": "python3"
  },
  "language_info": {
   "codemirror_mode": {
    "name": "ipython",
    "version": 3
   },
   "file_extension": ".py",
   "mimetype": "text/x-python",
   "name": "python",
   "nbconvert_exporter": "python",
   "pygments_lexer": "ipython3",
   "version": "3.12.1"
  }
 },
 "nbformat": 4,
 "nbformat_minor": 5
}
